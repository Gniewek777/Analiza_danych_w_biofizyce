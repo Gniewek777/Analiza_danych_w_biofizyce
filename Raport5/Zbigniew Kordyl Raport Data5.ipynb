{
 "cells": [
  {
   "cell_type": "markdown",
   "metadata": {},
   "source": [
    "# Wstęp teoretyczny\n"
   ]
  },
  {
   "cell_type": "markdown",
   "metadata": {},
   "source": [
    "Na zajęciach wgłebilismy się w programowanie obiektowe gdzie omówiono sam koncept tego i jak powinno się implementować obiekty w pythonie.\n",
    "\n",
    "Samo programownie obiektowe polega na tworzeniu klas(typów), które grupują dane i funkcje, które je modyfikują. Klasa składa się z dwóch typów atrybutów, czyli:\n",
    "\n",
    "* pola - obiekty które posiada dana klasa \n",
    "* metody  - funkcje w jakie wyposażona jest klasa\n",
    "\n",
    "Sama konstrukcja klasy wygląda nastepująco: \n",
    "\n",
    "`class Klasa:  \n",
    " -konstruktor  \n",
    " -pola  \n",
    " -metody  `\n",
    " \n",
    "Gdzie konstruktor to metoda, której zadaniem jest zainicjalizowanie pól konkretnej klasy.  \n",
    "Konstruktor zapisujemy nastepująco : `__init__(self....) `    \n",
    "**self** jest atrapą obiektu do której przypisujemy wartości poprzez odwołanie `self.pole = wartość`  \n",
    "Przykład:  \n",
    "` class Człowiek:\n",
    "    def __init__(self,Imie):\n",
    "        self.imie = Imie  \n",
    "                            `  \n",
    "                            \n",
    "Metody dzielimy na:\n",
    "* proste - atrybuty klasy, które można je przeciążać , ale odwoływac można sie do nich jedynie po utworzenia instancji danej klasy\n",
    "\n",
    "* statyczne - atrybuty klasy, które wystepują w jednym egzemplarzu na klase i do których można odwoływac sie bez tworzenia jej instancji\n",
    "\n",
    "Definiujemy je w podobny sposób jak funkcje poprzedzając je słowem **def**  \n",
    "Przykład:  \n",
    "` def metoda(x):\n",
    "        return x**2 `  \n",
    "        \n",
    "       \n",
    "Po utworzeniu takiego obiektu ` f = Funkcja() ` możemy się odwołać do niej w ten sposób `f.metoda(4)`  \n",
    "\n",
    "Do wypisywania elementów naszej klasy używa sie metody `def __str__(jakiś łańcuch znaków) `.\n",
    "\n",
    "Póżniej zaczeliśmy nowy temat którym jest biblioteka numpy.  \n",
    "\n",
    "A szczególnie klase **ndarray** która reprezentuje tablice dowolnego wymiaru. Poniżej przedstawie kilka operacji jakie można wykonać na tej klasie:  \n",
    "* tablica.ndim - Zwraca (int) liczbe wymiarów tabeli\n",
    "* tablica.size - Zwraca (int) liczbe elementów tablicy\n",
    "* tablica.shape - Zwraca (tuple) krotke z wymiarami tablicy\n",
    "\n",
    " "
   ]
  },
  {
   "cell_type": "markdown",
   "metadata": {},
   "source": [
    "# Zadanie 1\n"
   ]
  },
  {
   "cell_type": "code",
   "execution_count": 5,
   "metadata": {},
   "outputs": [],
   "source": [
    "class Prosta:\n",
    "    def __init__(self,i):\n",
    "        self.i = i\n",
    "        \n",
    "    def zwiekszam(self):\n",
    "        self.i+=1\n",
    "        return self.i"
   ]
  },
  {
   "cell_type": "code",
   "execution_count": 6,
   "metadata": {},
   "outputs": [
    {
     "name": "stdout",
     "output_type": "stream",
     "text": [
      "8\n"
     ]
    }
   ],
   "source": [
    "q1 = Prosta(4)\n",
    "for i in range(4):\n",
    "    q1.zwiekszam()\n",
    "print(q1.i)\n"
   ]
  },
  {
   "cell_type": "code",
   "execution_count": 7,
   "metadata": {},
   "outputs": [
    {
     "name": "stdout",
     "output_type": "stream",
     "text": [
      "Witajcie\n",
      "100\n"
     ]
    }
   ],
   "source": [
    "q2=Prosta(\"Witajcie\")\n",
    "#q2.zwiekszam()\n",
    "#q2.zwiekszam() # nie można zwiekszyć stringa\n",
    "print(q2.i)\n",
    "q2.i=100\n",
    "print(q2.i)"
   ]
  },
  {
   "cell_type": "markdown",
   "metadata": {},
   "source": [
    "W tym wypadku można by było zamiast \"Witajcie\" wpisać jakąś liczbe i zacznie działać."
   ]
  },
  {
   "cell_type": "markdown",
   "metadata": {},
   "source": [
    "# Zadanie 2"
   ]
  },
  {
   "cell_type": "code",
   "execution_count": 8,
   "metadata": {},
   "outputs": [],
   "source": [
    "from math import *\n",
    "class F:\n",
    "    def __init__(self,a,w):\n",
    "        self.a = a\n",
    "        self.w = w\n",
    "    def value(self,x):\n",
    "        return exp(-self.a*x)*sin(self.w*x)\n",
    "    def __str__(self):\n",
    "        return \"f(x)=e**({}x)sin({}x)\".format(self.a,self.w)"
   ]
  },
  {
   "cell_type": "code",
   "execution_count": 9,
   "metadata": {},
   "outputs": [
    {
     "name": "stdout",
     "output_type": "stream",
     "text": [
      "0.01335383513703555\n",
      "0.0005770715401197441\n"
     ]
    }
   ],
   "source": [
    "f = F(a=1.0, w=0.1)\n",
    "print(f.value(x=pi))\n",
    "f.a = 2\n",
    "print(f.value(pi))"
   ]
  },
  {
   "cell_type": "code",
   "execution_count": 10,
   "metadata": {},
   "outputs": [
    {
     "name": "stdout",
     "output_type": "stream",
     "text": [
      "f(x)=e**(2x)sin(0.1x)\n"
     ]
    }
   ],
   "source": [
    "print(f)"
   ]
  },
  {
   "cell_type": "markdown",
   "metadata": {},
   "source": [
    "Zaimplementowałem klase F  zawierającą w sobie metode **value** która zwraca wartość funkcji."
   ]
  },
  {
   "cell_type": "markdown",
   "metadata": {},
   "source": [
    "# Zadanie 3"
   ]
  },
  {
   "cell_type": "code",
   "execution_count": 11,
   "metadata": {},
   "outputs": [],
   "source": [
    "class Sygnal:\n",
    "    def __init__(self,sig,size):\n",
    "        self.sig = sig\n",
    "        self.size = size\n",
    "    \n",
    "    def mean(self):\n",
    "        return \"średnia wynosi:{}\".format(sum(self.sig)/self.size)\n",
    "    \n",
    "    def sd(self):\n",
    "        mean = sum(self.sig)/self.size\n",
    "        suma = [((i - mean)**2)/(self.size**(1/2)) for i in self.sig]\n",
    "        return \"odchylenie wynosi:{}\".format(sum(suma))\n",
    "\n",
    "    def trapezoid(self):\n",
    "        pole = [(self.sig[i-1]+self.sig[i])/2 for i in range(1,self.size)]\n",
    "        return \"pole wynosi:{}\".format(sum(pole))\n",
    "    \n",
    "    def mean_filter(self,window):\n",
    "        new = self.sig[:]\n",
    "        for i in range(self.size):\n",
    "            if i==0: \n",
    "                new[i]=(self.sig[i]+self.sig[i+1])/2\n",
    "                new[i+1]=new[i]\n",
    "            elif 2<=i<=(self.size-(window)):\n",
    "                new[i]=(self.sig[i-1]+self.sig[i+1])/2\n",
    "            else:\n",
    "                new[i]=(self.sig[i]+self.sig[i-1])/2 \n",
    "                new[i-1]=new[i]\n",
    "        return new"
   ]
  },
  {
   "cell_type": "code",
   "execution_count": 12,
   "metadata": {},
   "outputs": [],
   "source": [
    "tab = [1, 1, 3, 4, 10, 20, 40, 70, 41, 22, 5, 1, 2]\n",
    "w = Sygnal(tab,len(tab))\n",
    "import matplotlib.pyplot as plt"
   ]
  },
  {
   "cell_type": "code",
   "execution_count": 20,
   "metadata": {},
   "outputs": [
    {
     "name": "stdout",
     "output_type": "stream",
     "text": [
      "średnia wynosi:16.923076923076923\n",
      "pole wynosi:218.5\n",
      "odchylenie wynosi:1525.1268548983358\n",
      "[1.0, 1.0, 2.5, 6.5, 12.0, 25.0, 45.0, 40.5, 46.0, 23.0, 3.0, 1.5, 1.5]\n"
     ]
    }
   ],
   "source": [
    "print(w.mean())\n",
    "print(w.trapezoid())\n",
    "print(w.sd())\n",
    "print(w.mean_filter(3))"
   ]
  },
  {
   "cell_type": "code",
   "execution_count": 15,
   "metadata": {},
   "outputs": [
    {
     "data": {
      "text/plain": [
       "[<matplotlib.lines.Line2D at 0x7f0996785ac0>]"
      ]
     },
     "execution_count": 15,
     "metadata": {},
     "output_type": "execute_result"
    },
    {
     "data": {
      "image/png": "[encoded data removed]",
      "text/plain": [
       "<Figure size 432x288 with 1 Axes>"
      ]
     },
     "metadata": {
      "needs_background": "light"
     },
     "output_type": "display_data"
    }
   ],
   "source": [
    "plt.plot(tab,'b')\n",
    "plt.plot(w.mean_filter(3),'g')"
   ]
  },
  {
   "cell_type": "code",
   "execution_count": 16,
   "metadata": {},
   "outputs": [],
   "source": [
    "syg_noisy = [ 0.07035213, 0.05096267, 0.05482224, 0.21644296, 0.50977906, 0.78576652, 0.93998998, 0.95239758, 0.74208692, 0.42561928, 0.25394896, 0.15392354, 0.05162752, -0.00120213]\n",
    "\n"
   ]
  },
  {
   "cell_type": "code",
   "execution_count": 17,
   "metadata": {},
   "outputs": [
    {
     "name": "stdout",
     "output_type": "stream",
     "text": [
      "[0.0606574, 0.0606574, 0.133702815, 0.28230065, 0.50110474, 0.72488452, 0.86908205, 0.84103845, 0.68900843, 0.49801794, 0.28977141, 0.10277553, 0.025212695, 0.025212695]\n"
     ]
    }
   ],
   "source": [
    "q = Sygnal(syg_noisy,len(syg_noisy))\n",
    "print(q.mean_filter(3))"
   ]
  },
  {
   "cell_type": "code",
   "execution_count": 19,
   "metadata": {},
   "outputs": [
    {
     "data": {
      "text/plain": [
       "[<matplotlib.lines.Line2D at 0x7f09966fc970>]"
      ]
     },
     "execution_count": 19,
     "metadata": {},
     "output_type": "execute_result"
    },
    {
     "data": {
      "image/png": "[encoded data removed]",
      "text/plain": [
       "<Figure size 432x288 with 1 Axes>"
      ]
     },
     "metadata": {
      "needs_background": "light"
     },
     "output_type": "display_data"
    }
   ],
   "source": [
    "plt.plot(syg_noisy,'b')\n",
    "plt.plot(q.mean_filter(5),'g')"
   ]
  },
  {
   "cell_type": "markdown",
   "metadata": {},
   "source": [
    "Tu zaimplementowałem klase z metodami które zwracają średnia, pole i odchylenie standardowe wpisanego do niej sygnału jak również metode filtrującą dane której wyniki widzimy na wykresach gdzie niebieski wykres to stan przed filtracja a zielony po."
   ]
  },
  {
   "cell_type": "markdown",
   "metadata": {},
   "source": [
    "# Zadanie 4"
   ]
  },
  {
   "cell_type": "code",
   "execution_count": 536,
   "metadata": {},
   "outputs": [],
   "source": [
    "class Sprezyna:\n",
    "    def __init__(self,k):\n",
    "        self.k = k\n",
    "      \n",
    "    def silna(self,x):\n",
    "        return  self.k*x\n",
    "    \n",
    "    def energia(self,x):\n",
    "        return (self.k*x**2)/2\n",
    "    "
   ]
  },
  {
   "cell_type": "code",
   "execution_count": 537,
   "metadata": {},
   "outputs": [],
   "source": [
    "def table_fun(f, a, b, n, naglowek=''):\n",
    "    print(naglowek)\n",
    "    h = abs(b-a)/float(n)\n",
    "    for i in range(n):\n",
    "        x = a + i*h\n",
    "        print(f\"wartosc funkcji = {f(x)} w punkcie x={x}\")"
   ]
  },
  {
   "cell_type": "code",
   "execution_count": 538,
   "metadata": {},
   "outputs": [],
   "source": [
    "q = Sprezyna(3)"
   ]
  },
  {
   "cell_type": "code",
   "execution_count": 539,
   "metadata": {},
   "outputs": [
    {
     "name": "stdout",
     "output_type": "stream",
     "text": [
      "Siła\n",
      "wartosc funkcji = 3.0 w punkcie x=1.0\n",
      "wartosc funkcji = 12.0 w punkcie x=4.0\n",
      "wartosc funkcji = 21.0 w punkcie x=7.0\n"
     ]
    }
   ],
   "source": [
    "table_fun(q.silna,1,10,3,\"Siła\")"
   ]
  },
  {
   "cell_type": "code",
   "execution_count": 540,
   "metadata": {},
   "outputs": [
    {
     "name": "stdout",
     "output_type": "stream",
     "text": [
      "Energia\n",
      "wartosc funkcji = 1.5 w punkcie x=1.0\n",
      "wartosc funkcji = 24.0 w punkcie x=4.0\n",
      "wartosc funkcji = 73.5 w punkcie x=7.0\n"
     ]
    }
   ],
   "source": [
    "table_fun(q.energia,1,10,3,\"Energia\")"
   ]
  },
  {
   "cell_type": "markdown",
   "metadata": {},
   "source": [
    "Zaimplementowana klasa Sprężyna z metodami siła która zwraca wartość siły naciagu i energia która zwraca wartość energi."
   ]
  },
  {
   "cell_type": "markdown",
   "metadata": {},
   "source": [
    "# Zadanie 5"
   ]
  },
  {
   "cell_type": "code",
   "execution_count": 548,
   "metadata": {},
   "outputs": [],
   "source": [
    "class Nieliniowa_sprezyna:\n",
    "    '''\n",
    "    klasa liczy siłe naciągniecia sprężyny i \n",
    "    jej energie potęcjalną metodą trapezów\n",
    "    \n",
    "    '''\n",
    "    def __init__(self):\n",
    "        pass\n",
    "      \n",
    "    def sila(self,x):\n",
    "        return  self.k*x\n",
    "    \n",
    "    def energia(self,f,a,b,n):\n",
    "        dx = (b-a)/n\n",
    "        pole = [f(a+i*dx) for i in range(1,n)]\n",
    "        return dx*(sum(pole)+(f(a)+f(b))/2)\n",
    "    "
   ]
  },
  {
   "cell_type": "code",
   "execution_count": 554,
   "metadata": {},
   "outputs": [],
   "source": [
    "class F:\n",
    "    '''\n",
    "    w tej klasie podajemy kolejno wspolczyniki a i k\n",
    "    do funkcji1(asinx) i funckji2(kx)\n",
    "    \n",
    "    '''\n",
    "    def __init__(self,a,k):\n",
    "        self.a = a\n",
    "        self.k = k\n",
    "    def funkcja1(self,x):\n",
    "        return self.a*sin(x)\n",
    "    def funkcja2(self,x):\n",
    "        return self.k * x\n",
    "    "
   ]
  },
  {
   "cell_type": "code",
   "execution_count": 555,
   "metadata": {},
   "outputs": [],
   "source": [
    "p = Nieliniowa_sprezyna()\n",
    "f = F(2,3)"
   ]
  },
  {
   "cell_type": "code",
   "execution_count": 558,
   "metadata": {},
   "outputs": [
    {
     "data": {
      "text/plain": [
       "1.4323771425469956"
      ]
     },
     "execution_count": 558,
     "metadata": {},
     "output_type": "execute_result"
    }
   ],
   "source": [
    "p.energia(f.funkcja1,0,5,100)"
   ]
  },
  {
   "cell_type": "code",
   "execution_count": 559,
   "metadata": {
    "scrolled": true
   },
   "outputs": [
    {
     "data": {
      "text/plain": [
       "37.50000000000001"
      ]
     },
     "execution_count": 559,
     "metadata": {},
     "output_type": "execute_result"
    }
   ],
   "source": [
    "p.energia(f.funkcja2,0,5,100)"
   ]
  },
  {
   "cell_type": "markdown",
   "metadata": {},
   "source": [
    "Podobna operacja ale nieliniowo."
   ]
  },
  {
   "cell_type": "markdown",
   "metadata": {},
   "source": [
    "# Zadanie 6"
   ]
  },
  {
   "cell_type": "code",
   "execution_count": 4,
   "metadata": {},
   "outputs": [],
   "source": [
    "class Pacjent:\n",
    "    def __init__(self,imie,nazwisko,pesel,oddział):\n",
    "        self.imie = imie\n",
    "        self.nazwisko = nazwisko\n",
    "        self.pesel = pesel\n",
    "        self.oddział = oddział\n",
    "    def __str__(self):\n",
    "           return \" Imie:{}\\n Nazwisko:{}\\n Pesel:{}\\n Oddział:{}\\n\".format(self.imie,self.nazwisko,self.pesel,self.oddział)"
   ]
  },
  {
   "cell_type": "code",
   "execution_count": 27,
   "metadata": {},
   "outputs": [
    {
     "name": "stdout",
     "output_type": "stream",
     "text": [
      " Imie:Zbigniew\n",
      " Nazwisko:Kordyl\n",
      " Pesel:123\n",
      " Oddział:Narutowicza\n",
      " \n",
      "  Imie:Tomasz\n",
      " Nazwisko:Grabowski\n",
      " Pesel:321\n",
      " Oddział:Pawła\n",
      "\n"
     ]
    }
   ],
   "source": [
    "pacjent1 = Pacjent(\"Zbigniew\",\"Kordyl\",123,\"Narutowicza\")\n",
    "pacjent2 = Pacjent(\"Tomasz\",\"Grabowski\",321,\"Pawła\")\n",
    "print(pacjent1,\"\\n\",pacjent2)"
   ]
  },
  {
   "cell_type": "code",
   "execution_count": 91,
   "metadata": {},
   "outputs": [],
   "source": [
    "class Pacjenci:\n",
    "    pacjenci = []\n",
    "    def __init__(self,x):\n",
    "        Pacjenci.pacjenci.append(x)\n",
    "        \n",
    "    def pokaz_pacjentow(self,oddz=\"\"):\n",
    "        for i in Pacjenci.pacjenci:\n",
    "            if oddz==i.oddział:\n",
    "                print(i)\n",
    "            if oddz!=i.oddział:\n",
    "                print(i)\n",
    "        \n",
    "    def licz_pacjenta(self,oddz=\"\"):\n",
    "        count = 0\n",
    "        if oddz:\n",
    "            for i in Pacjenci.pacjenci:\n",
    "                if oddz==i.oddział:\n",
    "                       count+=1\n",
    "        else:\n",
    "            for i in Pacjenci.pacjenci:\n",
    "                       count+=1\n",
    "            \n",
    "        print(count)\n",
    "        \n",
    "    def znajdz_pacjenta(self,pesel):\n",
    "            for i in Pacjenci.pacjenci:\n",
    "                if pesel==i.pesel:\n",
    "                       print(i)\n",
    "                        \n",
    "    def wypisz_pacjenta(self,pesel):\n",
    "            for i in Pacjenci.pacjenci:\n",
    "                if pesel==i.pesel:\n",
    "                       Pacjenci.pacjenci.remove(i)\n",
    "            "
   ]
  },
  {
   "cell_type": "code",
   "execution_count": 92,
   "metadata": {},
   "outputs": [],
   "source": [
    "pacjenci = Pacjenci(pacjent1)\n",
    "pacjenci = Pacjenci(pacjent2)"
   ]
  },
  {
   "cell_type": "code",
   "execution_count": 93,
   "metadata": {},
   "outputs": [
    {
     "name": "stdout",
     "output_type": "stream",
     "text": [
      " Imie:Zbigniew\n",
      " Nazwisko:Kordyl\n",
      " Pesel:123\n",
      " Oddział:Narutowicza\n",
      "\n",
      " Imie:Tomasz\n",
      " Nazwisko:Grabowski\n",
      " Pesel:321\n",
      " Oddział:Pawła\n",
      "\n"
     ]
    }
   ],
   "source": [
    "pacjenci.pokaz_pacjentow()"
   ]
  },
  {
   "cell_type": "code",
   "execution_count": 94,
   "metadata": {},
   "outputs": [
    {
     "name": "stdout",
     "output_type": "stream",
     "text": [
      "2\n"
     ]
    }
   ],
   "source": [
    "pacjenci.licz_pacjenta()"
   ]
  },
  {
   "cell_type": "code",
   "execution_count": 95,
   "metadata": {},
   "outputs": [
    {
     "name": "stdout",
     "output_type": "stream",
     "text": [
      " Imie:Tomasz\n",
      " Nazwisko:Grabowski\n",
      " Pesel:321\n",
      " Oddział:Pawła\n",
      "\n"
     ]
    }
   ],
   "source": [
    "pacjenci.znajdz_pacjenta(321)"
   ]
  },
  {
   "cell_type": "code",
   "execution_count": 96,
   "metadata": {},
   "outputs": [],
   "source": [
    "pacjenci.wypisz_pacjenta(123)"
   ]
  },
  {
   "cell_type": "code",
   "execution_count": 99,
   "metadata": {
    "scrolled": false
   },
   "outputs": [
    {
     "name": "stdout",
     "output_type": "stream",
     "text": [
      " Imie:Tomasz\n",
      " Nazwisko:Grabowski\n",
      " Pesel:321\n",
      " Oddział:Pawła\n",
      "\n"
     ]
    }
   ],
   "source": [
    "pacjenci.pokaz_pacjentow()"
   ]
  },
  {
   "cell_type": "markdown",
   "metadata": {},
   "source": [
    "Stworzona klasa która imituje szpitalna baze danych gdzie można znaleść pacjenta, usunać go i  wpisać."
   ]
  },
  {
   "cell_type": "markdown",
   "metadata": {},
   "source": [
    "# Zadanie 7"
   ]
  },
  {
   "cell_type": "code",
   "execution_count": 30,
   "metadata": {},
   "outputs": [],
   "source": [
    "dic = {\"U\":{\"U\":{\"U\":\"Phe\",\"C\":\"Phe\",\"A\":\"Leu\",\"G\":\"Leu\"}\n",
    "                ,\"C\":{\"U\":\"Ser\",\"C\":\"Ser\",\"A\":\"Ser\",\"G\":\"Ser\"},\n",
    "                \"A\":{\"U\":\"Tyr\",\"C\":\"Tyr\",\"A\":\"Stop\",\"G\":\"Stop\"},\n",
    "                \"G\":{\"U\":\"Cys\",\"C\":\"Cys\",\"A\":\"Stop\",\"G\":\"Trp\"}},\n",
    "       \"C\":{\"U\":{\"U\":\"Leu\",\"C\":\"Leu\",\"A\":\"Leu\",\"G\":\"Leu\"},\n",
    "            \"C\":{\"U\":\"Pro\",\"C\":\"Pro\",\"A\":\"Pro\",\"G\":\"Pro\"},\n",
    "            \"A\":{\"U\":\"His\",\"C\":\"His\",\"A\":\"Gin\",\"G\":\"Gin\"},\n",
    "            \"G\":{\"U\":\"Arg\",\"C\":\"Arg\",\"A\":\"Arg\",\"G\":\"Arg\"}},\n",
    "       \"A\":{\"U\":{\"U\":\"Ile\",\"C\":\"Ile\",\"A\":\"Ile\",\"G\":\"Met\"},\n",
    "            \"C\":{\"U\":\"Thr\",\"C\":\"Thr\",\"A\":\"Thr\",\"G\":\"Thr\"},\n",
    "            \"A\":{\"U\":\"Asn\",\"C\":\"Asn\",\"A\":\"lys\",\"G\":\"Lys\"},\n",
    "            \"G\":{\"U\":\"Ser\",\"C\":\"Ser\",\"A\":\"Arg\",\"G\":\"Arg\"}},\n",
    "       \"G\":{\"U\":{\"U\":\"Val\",\"C\":\"Val\",\"A\":\"Val\",\"G\":\"Val\"},\n",
    "            \"C\":{\"U\":\"Ala\",\"C\":\"Ala\",\"A\":\"Ala\",\"G\":\"Ala\"},\n",
    "            \"A\":{\"U\":\"Asp\",\"C\":\"Asp\",\"A\":\"Glu\",\"G\":\"Glu\"},\n",
    "            \"G\":{\"U\":\"Gly\",\"C\":\"Gly\",\"A\":\"Gly\",\"G\":\"Gly\"}}}\n",
    "\n",
    "Sek = {\"T\":\"A\",\"A\":\"U\",\"C\":\"G\",\"G\":\"C\",\"U\":\"U\"}"
   ]
  },
  {
   "cell_type": "code",
   "execution_count": 120,
   "metadata": {},
   "outputs": [],
   "source": [
    "class Biomatrix:\n",
    "    def __init__(self,DNA):\n",
    "        self.DNA = DNA\n",
    "    \n",
    "    def transkrypcja(self):\n",
    "        new_sekw = [Sek[i] for i in self.DNA]\n",
    "        return new_sekw\n",
    "\n",
    "    def translacja(self):\n",
    "        x=self.transkrypcja()\n",
    "        new_sekw=\"\"\n",
    "        z=False\n",
    "        for i in range(0,len(x),3):\n",
    "            y=dic[x[i]][x[i+1]][x[i+2]]\n",
    "            if y==\"Met\": \n",
    "                z=True\n",
    "            if z:\n",
    "                if y==\"Stop\":\n",
    "                    print(\"STOP\")\n",
    "                    return new_sekw\n",
    "                else:\n",
    "                    new_sekw+=\" \" + y\n",
    "        \n",
    "        return new_sekw\n",
    "            \n",
    "    def find_promotor(self):\n",
    "        x=self.transkrypcja()\n",
    "        for i in range(0,len(x),3):\n",
    "            if dic[x[i]][x[i+1]][x[i+2]]==\"Met\":\n",
    "                print(\"Znaleziono Met\")\n",
    "            else:\n",
    "                print(\"Nie znaleziono Met\")\n",
    "                \n",
    "    def find_terminator(self):\n",
    "        x=self.transkrypcja()\n",
    "        for i in range(0,len(x),3):\n",
    "            if dic[x[i]][x[i+1]][x[i+2]]==\"STOP\":\n",
    "                return i\n",
    "            \n",
    "        print(\"Nie znaleziono terminatora\")\n",
    "                   \n",
    "   \n",
    "    "
   ]
  },
  {
   "cell_type": "code",
   "execution_count": 121,
   "metadata": {},
   "outputs": [],
   "source": [
    "bio = Biomatrix(\"TACTAGTAGCCGGGCAAAUAAAAATACAAA\")"
   ]
  },
  {
   "cell_type": "code",
   "execution_count": 122,
   "metadata": {},
   "outputs": [
    {
     "name": "stdout",
     "output_type": "stream",
     "text": [
      "A U G A U C A U C G G C C C G U U U U U U U U U A U G U U U\n"
     ]
    }
   ],
   "source": [
    "print(\" \".join(bio.transkrypcja()))"
   ]
  },
  {
   "cell_type": "code",
   "execution_count": 123,
   "metadata": {},
   "outputs": [
    {
     "name": "stdout",
     "output_type": "stream",
     "text": [
      " Met Ile Ile Gly Pro Phe Phe Phe Met Phe\n"
     ]
    }
   ],
   "source": [
    "print(bio.translacja())"
   ]
  },
  {
   "cell_type": "code",
   "execution_count": 124,
   "metadata": {},
   "outputs": [
    {
     "name": "stdout",
     "output_type": "stream",
     "text": [
      "Znaleziono Met\n",
      "Nie znaleziono Met\n",
      "Nie znaleziono Met\n",
      "Nie znaleziono Met\n",
      "Nie znaleziono Met\n",
      "Nie znaleziono Met\n",
      "Nie znaleziono Met\n",
      "Nie znaleziono Met\n",
      "Znaleziono Met\n",
      "Nie znaleziono Met\n",
      "None\n"
     ]
    }
   ],
   "source": [
    "print(bio.find_promotor())"
   ]
  },
  {
   "cell_type": "code",
   "execution_count": 125,
   "metadata": {
    "scrolled": true
   },
   "outputs": [
    {
     "name": "stdout",
     "output_type": "stream",
     "text": [
      "Nie znaleziono terminatora\n",
      "None\n"
     ]
    }
   ],
   "source": [
    "print(bio.find_terminator())"
   ]
  },
  {
   "cell_type": "markdown",
   "metadata": {},
   "source": [
    "Usprawnienie zadanie z poprzednich zajęć przy użyciu klas."
   ]
  },
  {
   "cell_type": "markdown",
   "metadata": {},
   "source": [
    "# Zadanie z zajęć"
   ]
  },
  {
   "cell_type": "code",
   "execution_count": 2,
   "metadata": {},
   "outputs": [],
   "source": [
    "class Dane:\n",
    "    def __init__(self,dane,rozmiar):\n",
    "        self.dane = dane\n",
    "        self.rozmiar = rozmiar\n",
    "    def srednia(self):\n",
    "        return sum(self.dane)/self.rozmiar\n",
    "    def odchylenie(self):\n",
    "        return sum([((i - self.srednia())**2)/(self.rozmiar**(1/2)) for i in self.dane])\n",
    "    \n",
    "    def filtruj_dane(self):\n",
    "        for i in range(self.rozmiar):\n",
    "            if self.dane[i]<0:\n",
    "                self.dane[i]=(self.dane[i-1]+self.dane[i+1])/2\n",
    "        print(self.dane)\n",
    "    \n",
    "    def __str__(self):\n",
    "        return f\"srednia {self.srednia()} i  odchylenie {self.odchylenie()}\""
   ]
  },
  {
   "cell_type": "code",
   "execution_count": 3,
   "metadata": {},
   "outputs": [
    {
     "name": "stdout",
     "output_type": "stream",
     "text": [
      "-14.171250000000002\n",
      "4003.9153168976322\n",
      "srednia -14.171250000000002 i  odchylenie 4003.9153168976322\n",
      "[2.04, 1.525, 1.01, 0.33, 2.19, 4.05, 9.99, 2.21]\n"
     ]
    }
   ],
   "source": [
    "l = [2.04, -22, 1.01, 0.33, -111, 4.05, 9.99, 2.21]\n",
    "dn = Dane(l,len(l))\n",
    "print(dn.srednia())\n",
    "print(dn.odchylenie())\n",
    "print(dn)\n",
    "dn.filtruj_dane()"
   ]
  },
  {
   "cell_type": "markdown",
   "metadata": {},
   "source": [
    "# Wnioski"
   ]
  },
  {
   "cell_type": "markdown",
   "metadata": {},
   "source": [
    "Na tych zajęciach miałem okazję przekonać się jak przydatne jest programowanie obiektowe i jak wiele możliwości daje. Też jest to dobre odświeżenie wiedzy chociaż porównując programownie obiektowe do tego z C++ powiedziałbym że w pythonie jest to bardziej przejrzyste."
   ]
  },
  {
   "attachments": {
    "Funny-Snake-With-Saxophone.jpg": {
     "image/jpeg": "[encoded data removed]"
    }
   },
   "cell_type": "markdown",
   "metadata": {},
   "source": [
    "![Funny-Snake-With-Saxophone.jpg](attachment:Funny-Snake-With-Saxophone.jpg)"
   ]
  }
 ],
 "metadata": {
  "kernelspec": {
   "display_name": "Python 3",
   "language": "python",
   "name": "python3"
  },
  "language_info": {
   "codemirror_mode": {
    "name": "ipython",
    "version": 3
   },
   "file_extension": ".py",
   "mimetype": "text/x-python",
   "name": "python",
   "nbconvert_exporter": "python",
   "pygments_lexer": "ipython3",
   "version": "3.8.5"
  }
 },
 "nbformat": 4,
 "nbformat_minor": 4
}
