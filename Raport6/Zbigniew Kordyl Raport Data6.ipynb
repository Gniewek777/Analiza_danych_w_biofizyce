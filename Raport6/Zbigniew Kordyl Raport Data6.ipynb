{
 "cells": [
  {
   "cell_type": "markdown",
   "metadata": {},
   "source": [
    "# Wstęp teoretyczny"
   ]
  },
  {
   "cell_type": "markdown",
   "metadata": {},
   "source": [
    "Na zajęciach wgłebilismy się w programowanie obiektowe gdzie omówiono sam koncept tego i jak powinno się implementować obiekty w pythonie.\n",
    "\n",
    "Samo programownie obiektowe polega na tworzeniu klas(typów), które grupują dane i funkcje, które je modyfikują. Klasa składa się z dwóch typów atrybutów, czyli:\n",
    "\n",
    "   * pola - obiekty które posiada dana klasa\n",
    "   * metody - funkcje w jakie wyposażona jest klasa\n",
    "\n",
    "Sama konstrukcja klasy wygląda nastepująco:\n",
    "\n",
    "class Klasa:  \n",
    " -konstruktor  \n",
    " -pola  \n",
    " -metody\n",
    "\n",
    "Gdzie konstruktor to metoda, której zadaniem jest zainicjalizowanie pól konkretnej klasy.\n",
    "Konstruktor zapisujemy nastepująco :` __init__(self....)`  \n",
    "Self jest atrapą obiektu do której przypisujemy wartości poprzez odwołanie `self.pole = wartość`\n",
    "Przykład:\n",
    "```python\n",
    "class Człowiek:\n",
    "    def __init__(self,Imie):\n",
    "        self.imie = Imie\n",
    "```\n",
    "Metody dzielimy na:\n",
    "\n",
    "  * proste - atrybuty klasy, które można je przeciążać , ale odwoływac można sie do nich jedynie po utworzenia instancji danej klasy\n",
    "\n",
    "  * statyczne - atrybuty klasy, które wystepują w jednym egzemplarzu na klase i do których można odwoływac sie bez tworzenia jej instancji\n",
    "\n",
    "Definiujemy je w podobny sposób jak funkcje poprzedzając je słowem def\n",
    "Przykład:\n",
    "```python\n",
    "def metoda(x):\n",
    "        return x**2\n",
    "    ```\n",
    "Po utworzeniu takiego obiektu `f = Funkcja()` możemy się odwołać do niej w ten sposób `f.metoda(4)`\n",
    "\n",
    "Do wypisywania elementów naszej klasy używa sie metody `def __str__(jakiś łańcuch znaków)`.\n",
    "\n",
    "Póżniej zaczeliśmy nowy temat którym jest biblioteka numpy.\n",
    "\n",
    "A szczególnie klase ndarray która reprezentuje tablice dowolnego wymiaru. Poniżej przedstawie kilka operacji jakie można wykonać na tej klasie:\n",
    "\n",
    "   * tablica.ndim - Zwraca (int) liczbe wymiarów tabeli\n",
    "   * tablica.size - Zwraca (int) liczbe elementów tablicy\n",
    "   * tablica.shape - Zwraca (tuple) krotke z wymiarami tablicy\n",
    "\n"
   ]
  },
  {
   "cell_type": "markdown",
   "metadata": {},
   "source": [
    "# Zadanie 2"
   ]
  },
  {
   "cell_type": "code",
   "execution_count": 290,
   "metadata": {},
   "outputs": [],
   "source": [
    "import numpy as np\n",
    "import math as m\n",
    "import matplotlib.pyplot as plt"
   ]
  },
  {
   "cell_type": "code",
   "execution_count": 1,
   "metadata": {},
   "outputs": [],
   "source": [
    "class Statystyka2p:\n",
    "    def __init__(self,k1,k2):\n",
    "        self.k1 = k1\n",
    "        self.k2 = k2\n",
    "        self.s1 = len(k1)\n",
    "        self.s2 = len(k2)\n",
    "        \n",
    "    def średnia_1(self):\n",
    "        return sum(self.k1)/self.s1\n",
    "    \n",
    "    def średnia_2(self):\n",
    "        return sum(self.k2)/self.s2\n",
    "    \n",
    "    def odchylenie_1(self):\n",
    "        średnia = self.średnia_1()\n",
    "        suma = [(((i - średnia)**2)/self.s1)**(1/2) for i in self.k1]\n",
    "        return sum(suma)\n",
    "    \n",
    "    def odchylenie_2(self):\n",
    "        średnia = self.średnia_2()\n",
    "        suma = [(((i - średnia)**2)/self.s2)**(1/2) for i in self.k2]\n",
    "        return sum(suma)\n",
    "    \n",
    "    def tStats(self):\n",
    "        return (self.średnia_1()-self.średnia_2())/((self.odchylenie_1()/self.s1)+(self.odchylenie_2()/self.s2))**(1/2)\n",
    "    \n",
    "    def __str__(self):\n",
    "        return f\"Średnia 1 próbki wynosi {self.średnia_1():.2f} a odchylenie {self.odchylenie_1():.2f} \\nŚrednia 2 próbki wynosi {self.średnia_2():.2f} a odchylenie {self.odchylenie_2():.2f} \\nWartość statystyki t dla próbek wynosi {self.tStats():.2f} \""
   ]
  },
  {
   "cell_type": "code",
   "execution_count": 2,
   "metadata": {},
   "outputs": [],
   "source": [
    "probka_1 = [2.23, 1.11, 3.33, 5.66, 9.21, 1.23, 3.33]\n",
    "probka_2 = [1.23, 1.11, 1.33, 1.66, 1.21, 1.98, 1.13, 1.00]\n",
    "\n",
    "Test = Statystyka2p(probka_1,probka_2)"
   ]
  },
  {
   "cell_type": "code",
   "execution_count": 3,
   "metadata": {},
   "outputs": [
    {
     "name": "stdout",
     "output_type": "stream",
     "text": [
      "Średnia 1 próbki wynosi 3.73 a odchylenie 5.60 \n",
      "Średnia 2 próbki wynosi 1.33 a odchylenie 0.69 \n",
      "Wartość statystyki t dla próbek wynosi 2.55 \n"
     ]
    }
   ],
   "source": [
    "print(Test)"
   ]
  },
  {
   "cell_type": "markdown",
   "metadata": {},
   "source": [
    "Stworzyłem klase Statystyka2p która liczy znaną każdemu studentowi statystyke t rozkładu studenta."
   ]
  },
  {
   "cell_type": "markdown",
   "metadata": {},
   "source": [
    "# Zadanie 3"
   ]
  },
  {
   "cell_type": "code",
   "execution_count": 129,
   "metadata": {},
   "outputs": [
    {
     "name": "stdout",
     "output_type": "stream",
     "text": [
      "f'(1)=0.2999999999999998 (blad=1.6653345369377348e-16) (dokladne=0.3)\n",
      "f'(7)=2.1000000000000005 (blad=4.440892098500626e-16) (dokladne=2.1)\n",
      "f'(15)=4.500000000000007 (blad=7.105427357601002e-15) (dokladne=4.5)\n",
      "\n",
      "\n",
      "f'(10)=0.10008345855698231 (blad=8.345855698230209e-05) (dokladne=0.1)\n",
      "f'(10)=0.10000333353334723 (blad=3.333533347221751e-06) (dokladne=0.1)\n",
      "f'(10)=0.10000000033327794 (blad=3.332779330289526e-10) (dokladne=0.1)\n",
      "f'(10)=0.09999999999177332 (blad=8.226683223533371e-12) (dokladne=0.1)\n",
      "f'(10)=0.0999999993922529 (blad=6.077471026433301e-10) (dokladne=0.1)\n",
      "f'(10)=0.1000000082740371 (blad=8.274037094357922e-09) (dokladne=0.1)\n",
      "f'(10)=0.0999866855977416 (blad=1.331440225840752e-05) (dokladne=0.1)\n"
     ]
    }
   ],
   "source": [
    "class Pochodna:\n",
    "    def __init__(self,f,h=0.5):\n",
    "        self.f = f\n",
    "        self.h = h\n",
    "    \n",
    "    def __call__(self,x):\n",
    "        return ((self.f(x+self.h)-self.f(x-self.h))/(2*self.h))\n",
    "    \n",
    "\n",
    "def f(x):\n",
    "    return 0.15*x**2 + 1\n",
    "def f3(x):\n",
    "    return 0.15*x**2 + 1\n",
    "\n",
    "def f2(x):\n",
    "    return m.log(x)\n",
    "\n",
    "df = Pochodna(f)\n",
    "#Uwaga df(x) oblicza jej wartość w punkcie\n",
    "\n",
    "for x in (1, 7, 15):\n",
    "    df_wartosc = df(x)\n",
    "    dokladne = 2*(0.15*x)\n",
    "    err = abs(dokladne - df_wartosc)\n",
    "    print(f\"f'({x})={df_wartosc} (blad={err}) (dokladne={dokladne})\")\n",
    "    \n",
    "# dla f(x) = ln(x) w punkcie x = 10\n",
    "\n",
    "print(\"\\n\")\n",
    "\n",
    "h = [0.5,0.1,10**(-3),10**(-5),10**(-7),10**(-9),10**(-11)]\n",
    "\n",
    "df_2 = []\n",
    "df_wartosc2 =[]\n",
    "err2 = []\n",
    "for i in h:\n",
    "    df_2.append(Pochodna(f2,i))\n",
    "    \n",
    "    \n",
    "for i in range(len(h)):\n",
    "    df_wartosc2.append(df_2[i](10))\n",
    "    dokladne = 1/10\n",
    "    err2.append(abs(dokladne - df_wartosc2[i]))\n",
    "    print(f\"f'({10})={df_wartosc2[i]} (blad={err2[i]}) (dokladne={dokladne})\")\n",
    "\n"
   ]
  },
  {
   "cell_type": "markdown",
   "metadata": {},
   "source": [
    "Najpierw stworzono klase Pochodna gdzie spr jej funkcjonalność dla funkcji f(x), gdzie sprawdzono błedy aproksymacji. Kolenym zadaniem było analogiczne spr dla f(x) = ln(x) w punkcie x=10 i dla \n",
    "h = (0.5,0.1,10** (-3),10** (-5),10** (-7),10** (-9),10** (-11))"
   ]
  },
  {
   "cell_type": "markdown",
   "metadata": {},
   "source": [
    "# Zadanie 4"
   ]
  },
  {
   "cell_type": "code",
   "execution_count": 286,
   "metadata": {},
   "outputs": [],
   "source": [
    "class Minimaxi:\n",
    "    def __init__(self,f,a,b,n):\n",
    "        self.f = f\n",
    "        self.a = a\n",
    "        self.b = b\n",
    "        self.n = n\n",
    "        \n",
    "    def znajdz_maksima(self):\n",
    "        self.P_min = []\n",
    "        self.F_min = []\n",
    "        self.P_max = []\n",
    "        self.F_max = []\n",
    "        x = []\n",
    "        y = []\n",
    "        h = (self.b-self.a)/(self.n-1)\n",
    "        \n",
    "        for i in range(0,self.n-1):\n",
    "            x.append(self.a + i*h)\n",
    "            self.x = x\n",
    "        for i in range(0,self.n-1):\n",
    "            y.append(self.f(x[i]))\n",
    "            self.y = y  \n",
    "            \n",
    "        for i in range(1,self.n-2):\n",
    "            if self.f(x[i-1])>self.f(x[i])<self.f(x[i+1]):\n",
    "                self.P_min.append(x[i])\n",
    "                self.F_min.append(self.f(x[i]))\n",
    "                \n",
    "            if self.f(x[i-1])<self.f(x[i])>self.f(x[i+1]):\n",
    "                self.P_max.append(x[i])\n",
    "                self.F_max.append(self.f(x[i]))\n",
    " \n",
    "        if self.f(x[self.a]) < self.f(x[1]):\n",
    "            self.P_min.append(x[self.a])\n",
    "            self.F_min.append(self.f(x[self.a]))\n",
    "        else:\n",
    "            self.P_max.append(x[self.a])\n",
    "            self.F_max.append(self.f(x[self.a]))\n",
    "            \n",
    "        if self.f(x[self.b]) < self.f(x[self.n-2]):\n",
    "            self.P_min.append(x[self.b])\n",
    "            self.F_min.append(self.f(x[self.b]))\n",
    "        else:\n",
    "            self.P_max.append(x[self.b])\n",
    "            self.F_max.append(self.f(x[self.b]))\n",
    "            \n",
    "    def znajdz_min_globalne(self):\n",
    "        return (self.P_min[self.F_min.index(min(self.F_min))]) \n",
    "        \n",
    "    def znajdz_max_globalne(self):\n",
    "        return (self.P_max[self.F_max.index(max(self.F_max))]) \n",
    "        \n",
    "    def znajdz_min_lokalne(self):\n",
    "        lista = [[self.P_min[i],self.F_min[i]] for i in range(len(self.P_min))]\n",
    "        return lista\n",
    "    \n",
    "    def znajdz_max_lokalne(self):\n",
    "        lista = [[self.P_max[i],self.F_max[i]] for i in range(len(self.P_max))]\n",
    "        return lista\n",
    "          \n",
    "    def __str__(self):\n",
    "        return f\"Wszystkie maksima: {self.znajdz_max_lokalne()} \\nWszystkie minima: {self.znajdz_min_lokalne()} \\nMinimum globalne: {self.znajdz_min_globalne():.3f} \\nMaksimum globalne: {self.znajdz_max_globalne():.3f}\""
   ]
  },
  {
   "cell_type": "code",
   "execution_count": 287,
   "metadata": {},
   "outputs": [],
   "source": [
    "def f(x):\n",
    "    return x**2*m.exp(-0.2*x)*m.sin(2*m.pi*x)\n",
    "\n",
    "r = Minimaxi(f, 0, 5, 100)\n",
    "r.znajdz_maksima()"
   ]
  },
  {
   "cell_type": "code",
   "execution_count": 288,
   "metadata": {},
   "outputs": [
    {
     "data": {
      "text/plain": [
       "[<matplotlib.lines.Line2D at 0x7fe938de7af0>]"
      ]
     },
     "execution_count": 288,
     "metadata": {},
     "output_type": "execute_result"
    },
    {
     "data": {
      "image/png": "[encoded data removed]",
      "text/plain": [
       "<Figure size 432x288 with 1 Axes>"
      ]
     },
     "metadata": {
      "needs_background": "light"
     },
     "output_type": "display_data"
    }
   ],
   "source": [
    "plt.plot(r.x,r.y)"
   ]
  },
  {
   "cell_type": "code",
   "execution_count": 289,
   "metadata": {},
   "outputs": [
    {
     "name": "stdout",
     "output_type": "stream",
     "text": [
      "Wszystkie maksima: [[0.35353535353535354, 0.09267041721680026], [1.2626262626262625, 1.234557172680529], [2.2727272727272725, 3.245225813067198], [3.282828282828283, 5.470771013482886], [4.242424242424242, 7.695621809962182], [0.25252525252525254, 0.06062069265207443]] \n",
      "Wszystkie minima: [[0.8080808080808081, -0.518962767565008], [1.7676767676767677, -2.180635390592522], [2.7777777777777777, -4.359851983483792], [3.7373737373737375, -6.593876285996585], [4.747474747474747, -8.719874620158857], [0.0, 0.0]] \n",
      "Minimum globalne: 4.747 \n",
      "Maksimum globalne: 4.242\n"
     ]
    }
   ],
   "source": [
    "print(r)"
   ]
  },
  {
   "cell_type": "markdown",
   "metadata": {},
   "source": [
    "Tutaj szukaliśmy ekstermów dla podanej funkcji w danym przedziale. Ja widzimy na wykresie nasze wyniki w przybliżeniu się zgadzają."
   ]
  },
  {
   "cell_type": "markdown",
   "metadata": {},
   "source": [
    "# Zadanie 5"
   ]
  },
  {
   "cell_type": "code",
   "execution_count": 93,
   "metadata": {},
   "outputs": [],
   "source": [
    "sygnal_x = [0.     ,    0.03030303, 0.06060606, 0.09090909 ,0.12121212 ,0.15151515,\n",
    " 0.18181818, 0.21212121, 0.24242424, 0.27272727, 0.3030303 , 0.33333333,\n",
    " 0.36363636 ,0.39393939 ,0.42424242 ,0.45454545, 0.48484848, 0.51515152,\n",
    " 0.54545455, 0.57575758, 0.60606061, 0.63636364, 0.66666667, 0.6969697,\n",
    " 0.72727273, 0.75757576, 0.78787879, 0.81818182, 0.84848485, 0.87878788,\n",
    " 0.90909091, 0.93939394, 0.96969697, 1.        , 1.03030303, 1.06060606,\n",
    " 1.09090909, 1.12121212, 1.15151515, 1.18181818, 1.21212121, 1.24242424,\n",
    " 1.27272727, 1.3030303,  1.33333333, 1.36363636, 1.39393939, 1.42424242,\n",
    " 1.45454545, 1.48484848, 1.51515152, 1.54545455, 1.57575758, 1.60606061,\n",
    " 1.63636364, 1.66666667, 1.6969697,  1.72727273, 1.75757576, 1.78787879,\n",
    " 1.81818182, 1.84848485, 1.87878788, 1.90909091, 1.93939394, 1.96969697,\n",
    " 2.        , 2.03030303, 2.06060606, 2.09090909, 2.12121212, 2.15151515,\n",
    " 2.18181818, 2.21212121, 2.24242424, 2.27272727, 2.3030303,  2.33333333,\n",
    " 2.36363636, 2.39393939, 2.42424242, 2.45454545, 2.48484848, 2.51515152,\n",
    " 2.54545455, 2.57575758, 2.60606061, 2.63636364, 2.66666667, 2.6969697,\n",
    " 2.72727273, 2.75757576, 2.78787879, 2.81818182, 2.84848485, 2.87878788,\n",
    " 2.90909091, 2.93939394, 2.96969697, 3.]        \n",
    "\n",
    "sygnal_y = [0.         ,0.03030303, 0.06060606, 0.09090909, 0.12121212, 0.15151515,\n",
    " 0.18181818, 0.21212121, 0.24242424, 0.27272727 ,0.3030303,  0.33333333,\n",
    " 0.36363636, 0.39393939, 0.42424242, 0.45454545, 0.48484848, 0.51515152,\n",
    " 0.54545455, 0.57575758, 0.60606061, 0.63636364, 0.66666667, 0.6969697,\n",
    " 0.72727273, 0.75757576, 0.78787879, 0.81818182, 0.84848485, 0.87878788,\n",
    " 0.90909091, 0.93939394, 0.96969697, 1.        , 1.03030303, 1.06060606,\n",
    " 1.09090909, 1.12121212, 1.15151515, 1.18181818, 1.21212121, 1.24242424,\n",
    " 1.27272727, 1.3030303,  1.33333333, 1.36363636, 1.39393939, 1.42424242,\n",
    " 1.45454545, 1.48484848, 1.51515152, 1.54545455, 1.57575758, 1.60606061,\n",
    " 1.63636364, 1.66666667, 1.6969697,  1.72727273, 1.75757576, 1.78787879,\n",
    " 1.81818182, 1.84848485, 1.87878788, 1.90909091, 1.93939394, 1.96969697,\n",
    " 2.        , 2.03030303, 2.06060606, 2.09090909, 2.12121212, 2.15151515,\n",
    " 2.18181818, 2.21212121, 2.24242424, 2.27272727, 2.3030303,  2.33333333,\n",
    " 2.36363636, 2.39393939, 2.42424242, 2.45454545, 2.48484848, 2.51515152,\n",
    "2.54545455, 2.57575758 ,2.60606061, 2.63636364, 2.66666667, 2.6969697,\n",
    " 2.72727273, 2.75757576, 2.78787879 ,2.81818182, 2.84848485, 2.87878788,\n",
    " 2.90909091, 2.93939394, 2.96969697 ,3.        ]\n"
   ]
  },
  {
   "cell_type": "code",
   "execution_count": 227,
   "metadata": {},
   "outputs": [],
   "source": [
    "class Minimaxi_tab:\n",
    "    def __init__(self,tab1,tab2):\n",
    "        self.tab1 = tab1\n",
    "        self.tab2 = tab2\n",
    "        self.n = len(self.tab2)\n",
    "        \n",
    "    def znajdz_maksima(self):\n",
    "        self.P_min = []\n",
    "        self.F_min = []\n",
    "        self.P_max = []\n",
    "        self.F_max = []\n",
    "        \n",
    "        for i in range(1,self.n-2):\n",
    "            if self.tab2[i-1]>self.tab2[i]<self.tab2[i+1]:\n",
    "                self.P_min.append(self.tab1[i])\n",
    "                self.F_min.append(self.tab2[i])\n",
    "                \n",
    "            if self.tab2[i-1]<self.tab2[i]>self.tab2[i+1]:\n",
    "                self.P_max.append(self.tab1[i])\n",
    "                self.F_max.append(self.tab2[i])\n",
    " \n",
    "        if self.tab2[0] < self.tab2[1]:\n",
    "            self.P_min.append(self.tab1[0])\n",
    "            self.F_min.append(self.tab2[0])\n",
    "        else:\n",
    "            self.P_max.append(self.tab1[0])\n",
    "            self.F_max.append(self.tab2[0])\n",
    "            \n",
    "        if self.tab2[self.n-1] < self.tab2[self.n-2]:\n",
    "            self.P_min.append(self.tab1[self.n-1])\n",
    "            self.F_min.append(self.tab2[self.n-1])\n",
    "        else:\n",
    "            self.P_max.append(self.tab1[self.n-1])\n",
    "            self.F_max.append(self.tab2[self.n-1])\n",
    "            \n",
    "    def znajdz_min_globalne(self):\n",
    "        return (self.P_min[self.F_min.index(min(self.F_min))]) \n",
    "        \n",
    "    def znajdz_max_globalne(self):\n",
    "        return (self.P_max[self.F_max.index(max(self.F_max))]) \n",
    "        \n",
    "    def znajdz_min_lokalne(self):\n",
    "        lista = [(self.P_min[i],self.F_min[i]) for i in range(len(self.P_min))]\n",
    "        return lista\n",
    "    \n",
    "    def znajdz_max_lokalne(self):\n",
    "        lista = [(self.P_max[i],self.F_max[i]) for i in range(len(self.P_max))]\n",
    "        return lista\n",
    "          \n",
    "    def __str__(self):\n",
    "        return f\"Wszystkie maksima: {self.znajdz_max_lokalne()} \\nWszystkie minima: {self.znajdz_min_lokalne()} \\nMinimum globalne: {self.znajdz_min_globalne()} \\nMaksimum globalne: {self.znajdz_max_globalne()}\""
   ]
  },
  {
   "cell_type": "code",
   "execution_count": 228,
   "metadata": {},
   "outputs": [],
   "source": [
    "r = Minimaxi_tab(sygnal_x, sygnal_y)"
   ]
  },
  {
   "cell_type": "code",
   "execution_count": 229,
   "metadata": {},
   "outputs": [
    {
     "data": {
      "text/plain": [
       "[<matplotlib.lines.Line2D at 0x7fe938ff0250>]"
      ]
     },
     "execution_count": 229,
     "metadata": {},
     "output_type": "execute_result"
    },
    {
     "data": {
      "image/png": "[encoded data removed]",
      "text/plain": [
       "<Figure size 432x288 with 1 Axes>"
      ]
     },
     "metadata": {
      "needs_background": "light"
     },
     "output_type": "display_data"
    }
   ],
   "source": [
    "plt.plot(sygnal_x,sygnal_y)"
   ]
  },
  {
   "cell_type": "code",
   "execution_count": 230,
   "metadata": {},
   "outputs": [
    {
     "name": "stdout",
     "output_type": "stream",
     "text": [
      "Wszystkie maksima: [(3.0, 3.0)] \n",
      "Wszystkie minima: [(0.0, 0.0)] \n",
      "Minimum globalne: 0.0 \n",
      "Maksimum globalne: 3.0\n"
     ]
    }
   ],
   "source": [
    "r.znajdz_maksima()\n",
    "print(r)"
   ]
  },
  {
   "cell_type": "markdown",
   "metadata": {},
   "source": [
    "Podobnie szukaliśmy extremów funkcji tylko dla danych z tablicy."
   ]
  },
  {
   "cell_type": "markdown",
   "metadata": {},
   "source": [
    "# Zadanie 6"
   ]
  },
  {
   "cell_type": "code",
   "execution_count": 124,
   "metadata": {},
   "outputs": [],
   "source": [
    "class Bisekcja:\n",
    "    def __init__(self,f,a,b,n):\n",
    "        self.f = f\n",
    "        self.a = a\n",
    "        self.b = b\n",
    "        self.n = n\n",
    "    \n",
    "    def Rozwiaz(self):\n",
    "        for i in range(0,self.n):\n",
    "            m = (self.a+self.b)/2\n",
    "            if self.f(self.a)*self.f(m)<=0:\n",
    "                self.b=m\n",
    "            else:\n",
    "                self.a=m\n",
    "                \n",
    "        return (self.a+self.b)/2\n",
    "    \n",
    "    def __str__(self):\n",
    "        return f\" Szukany pierwiastek: {self.Rozwiaz():.2f}\""
   ]
  },
  {
   "cell_type": "code",
   "execution_count": 125,
   "metadata": {},
   "outputs": [
    {
     "name": "stdout",
     "output_type": "stream",
     "text": [
      " Szukany pierwiastek: 1.93\n"
     ]
    }
   ],
   "source": [
    "def f(x):\n",
    "    return x - 1 - m.sin(x)\n",
    "\n",
    "r = Bisekcja(f, 0, 2, 100)\n",
    "print(r)"
   ]
  },
  {
   "cell_type": "markdown",
   "metadata": {},
   "source": [
    "Stowrzono klase Bisekcja dzięki której policzylismy pierwiastek równania f(x) = 0."
   ]
  },
  {
   "cell_type": "markdown",
   "metadata": {},
   "source": [
    "# Zadanie 7"
   ]
  },
  {
   "cell_type": "code",
   "execution_count": 281,
   "metadata": {},
   "outputs": [],
   "source": [
    "class Minimaxi2:\n",
    "    def __init__(self,f,a,b,n):\n",
    "        self.f = f\n",
    "        self.a = a\n",
    "        self.b = b\n",
    "        self.n = n\n",
    "\n",
    "          \n",
    "                \n",
    "    def lepsze_ekstrema(self):\n",
    "        self.P_min = []\n",
    "        self.F_min = []\n",
    "        self.P_max = []\n",
    "        self.F_max = []\n",
    "        x = []\n",
    "        y = []\n",
    "        h = (self.b-self.a)/(self.n-1)\n",
    "        \n",
    "        for i in range(0,self.n-1):\n",
    "            x.append(self.a + i*h)\n",
    "            self.x = x\n",
    "        for i in range(0,self.n-1):\n",
    "            y.append(self.f(x[i]))\n",
    "            self.y = y  \n",
    "        for i in range(1,self.n-2):\n",
    "            df1 = 0\n",
    "            df2 = 0\n",
    "            b = 0\n",
    "            rozw = 0\n",
    "            if self.f(x[i-1])>self.f(x[i])<self.f(x[i+1]): #szukamy w przedzialu punktu gdzie wystepuje minimum\n",
    "                df =Pochodna(self.f,h=(x[i+1] - x[i-1])) #tworze obiekt pochodnej funkcji w przedziale gdzie znaleziono minimum\n",
    "                b = Bisekcja(df,x[i-1],x[i+1],self.n) #w tym przedziale licze bisekcje gdzie w ciele jest obiekt df \n",
    "                rozw = b.Rozwiaz() # tu rozwiazuje f'(x) = 0\n",
    "                self.P_min.append(rozw)\n",
    "                self.F_min.append(self.f(rozw))\n",
    "                \n",
    "            if self.f(x[i-1])<self.f(x[i])>self.f(x[i+1]): # Analogicznie\n",
    "                df2 = Pochodna(self.f,h=(x[i+1]- x[i-1]))\n",
    "                b = Bisekcja(df2,x[i-1],x[i+1],self.n)\n",
    "                rozw = b.Rozwiaz()\n",
    "                self.P_max.append(rozw)\n",
    "                self.F_max.append(self.f(rozw))\n",
    "            \n",
    "        \n",
    "    def znajdz_min_globalne(self):\n",
    "        return (self.P_min[self.F_min.index(min(self.F_min))]) \n",
    "        \n",
    "    def znajdz_max_globalne(self):\n",
    "        return (self.P_max[self.F_max.index(max(self.F_max))]) \n",
    "        \n",
    "    def znajdz_min_lokalne(self):\n",
    "        lista = [[self.P_min[i],self.F_min[i]] for i in range(len(self.P_min))]\n",
    "        return lista\n",
    "    \n",
    "    def znajdz_max_lokalne(self):\n",
    "        lista = [[self.P_max[i],self.F_max[i]] for i in range(len(self.P_max))]\n",
    "        return lista\n",
    "          \n",
    "    def __str__(self):\n",
    "        return f\"Wszystkie maksima: {self.znajdz_max_lokalne()} \\nWszystkie minima: {self.znajdz_min_lokalne()} \\nMinimum globalne: {self.znajdz_min_globalne():.3f} \\nMaksimum globalne: {self.znajdz_max_globalne():.3f}\""
   ]
  },
  {
   "cell_type": "code",
   "execution_count": 282,
   "metadata": {},
   "outputs": [],
   "source": [
    "def f(x):\n",
    "    return x**2*m.exp(-0.2*x)*m.sin(2*m.pi*x)\n",
    "\n",
    "r = Minimaxi2(f, 0, 5, 100)"
   ]
  },
  {
   "cell_type": "code",
   "execution_count": 283,
   "metadata": {},
   "outputs": [],
   "source": [
    "r.lepsze_ekstrema()"
   ]
  },
  {
   "cell_type": "code",
   "execution_count": 284,
   "metadata": {},
   "outputs": [
    {
     "data": {
      "text/plain": [
       "[<matplotlib.lines.Line2D at 0x7fe939e6f160>]"
      ]
     },
     "execution_count": 284,
     "metadata": {},
     "output_type": "execute_result"
    },
    {
     "data": {
      "image/png": "[encoded data removed]",
      "text/plain": [
       "<Figure size 432x288 with 1 Axes>"
      ]
     },
     "metadata": {
      "needs_background": "light"
     },
     "output_type": "display_data"
    }
   ],
   "source": [
    "plt.plot(r.x,r.y)"
   ]
  },
  {
   "cell_type": "code",
   "execution_count": 285,
   "metadata": {},
   "outputs": [
    {
     "name": "stdout",
     "output_type": "stream",
     "text": [
      "Wszystkie maksima: [[0.347989162085105, 0.09221404715943693], [1.2793145581738443, 1.2457358616219825], [2.264859856661917, 3.246861145124473], [3.25902179464354, 5.525878976826916], [4.255891654412807, 7.727187253848277]] \n",
      "Wszystkie minima: [[0.7982006532371304, -0.5183992817177845], [1.7701609918289472, -2.181611750943413], [2.761423633571124, -4.378165563024487], [3.757250682864493, -6.6517950049263765], [4.754816331034689, -8.731130959625283]] \n",
      "Minimum globalne: 4.755 \n",
      "Maksimum globalne: 4.256\n"
     ]
    }
   ],
   "source": [
    "print(r)"
   ]
  },
  {
   "cell_type": "markdown",
   "metadata": {},
   "source": [
    "Tutaj mieliśmy istne combo gdzie ulepszyliśmy naszą Klase Minimaxi zużyciem wewnatrz niej obiektów z klasy Pochodna  i Bisekcja. W rezultacie dostaliśmy dokładniejsze ekstrema a konkretniej minimum i maximum globalne. "
   ]
  },
  {
   "cell_type": "markdown",
   "metadata": {},
   "source": [
    "# Wnioski"
   ]
  },
  {
   "cell_type": "markdown",
   "metadata": {},
   "source": [
    "Na tych zajęciach doszlifowałem swoje umiejętności programowania obiektowego jak i utwierdziłem się w tym że znająć strukture klas można robić już ciekawsze projekty. Żałuje że nie miałem tego programu z liczenia ekstremów na 1 semestrze gdzie tego typu zadania się przewijały. Bardzo by to przyśpieszyło zdawanie :D"
   ]
  },
  {
   "attachments": {
    "snake-hands-6-5b7fef436a5f9__700.jpg": {
     "image/jpeg": "[encoded data removed]"
    }
   },
   "cell_type": "markdown",
   "metadata": {},
   "source": [
    "![snake-hands-6-5b7fef436a5f9__700.jpg](attachment:snake-hands-6-5b7fef436a5f9__700.jpg)"
   ]
  }
 ],
 "metadata": {
  "kernelspec": {
   "display_name": "Python 3",
   "language": "python",
   "name": "python3"
  },
  "language_info": {
   "codemirror_mode": {
    "name": "ipython",
    "version": 3
   },
   "file_extension": ".py",
   "mimetype": "text/x-python",
   "name": "python",
   "nbconvert_exporter": "python",
   "pygments_lexer": "ipython3",
   "version": "3.8.5"
  }
 },
 "nbformat": 4,
 "nbformat_minor": 4
}
