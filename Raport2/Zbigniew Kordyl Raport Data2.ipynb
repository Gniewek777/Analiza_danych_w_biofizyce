{
 "cells": [
  {
   "cell_type": "markdown",
   "metadata": {},
   "source": [
    "# Wstęp teoretyczny"
   ]
  },
  {
   "cell_type": "markdown",
   "metadata": {},
   "source": [
    "Na wykładzie kontynuowaliśmy nauke o typach sekwencyjnych i iterowalnych. Gdzie mówiliśmy o wyciąganiu podciagów , czyli `list[1:]` lub `list[:1]`  i możliwości modyfikownia ich `list[1:3] = [1,1,1]`.  \n",
    "Póżniej poznaliśmy szereg przydanych metod:\n",
    "* `x.append(wartość)` -  pozwala nam dodać element na koniec listy  \n",
    "\n",
    "* `del x[1:2]` - usuwa wybrany przez nas fragment w liscie bądź element   \n",
    "\n",
    "* `d = x.pop()` - usuwa element z końca listy **x** i zapisuje w zmiennej **d**  \n",
    "\n",
    "* `sorted(kontener)` - sortuje elementy kontenera tworząc przy tym nowy kontener  \n",
    "\n",
    "* `x.sort()` - podobnie jak `sorted` sortuje elementy kontenera ale tylko do tego do którego się odwołuje   \n",
    "\n",
    "* `x.reverse()` - odwraca kolejność kontenera  \n",
    "\n",
    "* `min(x)`, `max(x)` , `sum(X)` - kolejno wyświetla nam informacje o minimalnej, maksymalnej wartości kontenera i jego sume  \n",
    "\n",
    "* `x.indeks(obiekt)` - zwraca numer elementu tożsamego z **obiekt**\n",
    "\n",
    "* `x.count(obiekt)` - zwraca ilość zliczeń danego obiektu w kontenerze \n",
    "\n",
    "Bardzo przydatne będą w przyszłości wyrażenia listotwórcze, które są w stanie bardzo uprościć i skrócić kod.  \n",
    "Ich budowa: `lista = [wyrazenie(nazwa)for nazwa in obiekt_iterowalny]` oraz gdy chcemy przefiltorwać zawartość listy możemy użyć formuły if : `lista = [wyrazenie(nazwa)for nazwa in obiekt_iterowalny ... if warunek_logiczny(nazwa)]`\n",
    "\n",
    "Również poznaliśmy **słowniki** które są obiektami typu *dict* i tak jak listy służą do przechowywania danych ale na zasadzie *klucz : wartość* (fragment kodu) `Mieszkańcy = {567 : \"Tomek\", 342 : \"Asia\"}` .  \n",
    "Dzieki takiemu mechanizmowi możemy wydobywać wartości z słownika poprzez podanie klucza `Mieszkańcy[567]` co wyświetli nam wartość \"Tomek\".  \n",
    "Możemy też tworzyć wyrażenia słownikotwórcze: `slownik = {klucz: wartosc(cosik) for cosik in kredens}`.\n",
    "\n",
    "Ostatnim co omówiliśmy były instrukcje sterujące **if...elif...else**   które pozwalają na wykonanie danych części kodu jeśli jakiś warunek zostanie spełniony.\n",
    "Fragment kodu wygląda nastepująco:  \n",
    "`x = 5\n",
    "if x == 5:\n",
    "    x+=1\n",
    "elif x>5:\n",
    "    x-=1\n",
    "else:\n",
    "    x = 0\n",
    "`\n",
    "`\n"
   ]
  },
  {
   "cell_type": "markdown",
   "metadata": {},
   "source": [
    "# Rozwiązania "
   ]
  },
  {
   "cell_type": "markdown",
   "metadata": {},
   "source": [
    "## Zadanie 1"
   ]
  },
  {
   "cell_type": "code",
   "execution_count": 15,
   "metadata": {},
   "outputs": [
    {
     "name": "stdout",
     "output_type": "stream",
     "text": [
      "podaj punkt x\n",
      "5\n",
      "Wartość wielominu to 59 \n"
     ]
    }
   ],
   "source": [
    "# 2x^2+2x-1\n",
    "print(\"podaj punkt x\")\n",
    "x = int(input())\n",
    "W = [-1,2*x,2*x**2]\n",
    "W_r = W[0]+W[1]+W[2]\n",
    "print(\"Wartość wielominu to %g \" %(W_r))\n"
   ]
  },
  {
   "cell_type": "markdown",
   "metadata": {},
   "source": [
    "**System dziesiętny**\n"
   ]
  },
  {
   "cell_type": "code",
   "execution_count": 28,
   "metadata": {},
   "outputs": [
    {
     "data": {
      "text/plain": [
       "2320"
      ]
     },
     "execution_count": 28,
     "metadata": {},
     "output_type": "execute_result"
    }
   ],
   "source": [
    "l= [2, 3, 2,0]\n",
    "l2 = [3,2,1,0]\n",
    "x= [ x*10**y for x, y in zip(l, l2)]\n",
    "sum(x)"
   ]
  },
  {
   "cell_type": "markdown",
   "metadata": {},
   "source": [
    "Użyto tu funkcji `zip()` która łączy kolejno elementy dwóch list i tworzy liste krotek.  \n",
    "Tutaj uzylismy tego aby stworzyc z elemetów listy jedna liczbę przez mnożenie jednego elementu listy przez odpowiadające im potegi."
   ]
  },
  {
   "cell_type": "markdown",
   "metadata": {},
   "source": [
    "## Zadanie 2"
   ]
  },
  {
   "cell_type": "code",
   "execution_count": 30,
   "metadata": {},
   "outputs": [
    {
     "name": "stdout",
     "output_type": "stream",
     "text": [
      "[120, 66, 80]\n"
     ]
    }
   ],
   "source": [
    "heart_rate = [50, 120, 999, 66, 80, 22, 11, -500, 150]\n",
    "bp = [i for i in heart_rate if 50<i<150]\n",
    "print(bp)"
   ]
  },
  {
   "cell_type": "code",
   "execution_count": 32,
   "metadata": {},
   "outputs": [
    {
     "name": "stdout",
     "output_type": "stream",
     "text": [
      "[0, 120, 0, 66, 80, 0, 0, 0, 0]\n"
     ]
    }
   ],
   "source": [
    "heart_rate = [50, 120, 999, 66, 80, 22, 11, -500, 150]\n",
    "nowa_lista = [x if 50<x<150  else 0 for x in heart_rate]\n",
    "print(nowa_lista)"
   ]
  },
  {
   "cell_type": "markdown",
   "metadata": {},
   "source": [
    "## Zadanie 3"
   ]
  },
  {
   "cell_type": "code",
   "execution_count": 117,
   "metadata": {},
   "outputs": [
    {
     "name": "stdout",
     "output_type": "stream",
     "text": [
      "liczba szczurów to 8\n",
      "średnia temperatura szczurów to 36.800000000000004\n",
      "maksymalna wartosc 39.6 i minimalna 35.6\n",
      "średnia temperatura 3 szczurów to 36.0\n",
      "[False, False, False, True, True, False, False, False]\n",
      "[35.6, 36.6, 35.8, 39.6, 37.0, 36.9, 36.8, 36.1, 36.5, 36.7, 37.2]\n"
     ]
    }
   ],
   "source": [
    "thermo = [35.6, 36.6, 35.8, 39.6, 37.0, 36.9, 36.8, 36.1]\n",
    "print(\"liczba szczurów to {}\".format(len(thermo)))\n",
    "print(\"średnia temperatura szczurów to {}\".format((sum(thermo)/len(thermo))))\n",
    "print(\"maksymalna wartosc {} i minimalna {}\".format(max(thermo),min(thermo)))\n",
    "l = thermo[:3]\n",
    "print(\"średnia temperatura 3 szczurów to {}\".format((sum(l)/len(l))))\n",
    "lista_chorych = [True if x>=37 else False  for x in thermo]\n",
    "print(lista_chorych)\n",
    "nowe = [36.5, 36.7, 37.2]\n",
    "print(thermo + nowe)"
   ]
  },
  {
   "cell_type": "markdown",
   "metadata": {},
   "source": [
    "## Zadanie 4"
   ]
  },
  {
   "cell_type": "code",
   "execution_count": 136,
   "metadata": {},
   "outputs": [],
   "source": [
    "słownik = {\"hello\":\"cześć\", \"wrath\":\"gniew\" ,\"corridor\":\"korytarz\" ,\"boring\":\"nudne\" ,\"interesting\":\"interesujące\"}"
   ]
  },
  {
   "cell_type": "code",
   "execution_count": 137,
   "metadata": {},
   "outputs": [
    {
     "data": {
      "text/plain": [
       "dict_keys(['hello', 'wrath', 'corridor', 'boring', 'interesting'])"
      ]
     },
     "execution_count": 137,
     "metadata": {},
     "output_type": "execute_result"
    }
   ],
   "source": [
    "słownik.keys()"
   ]
  },
  {
   "cell_type": "code",
   "execution_count": 138,
   "metadata": {},
   "outputs": [],
   "source": [
    "słownik[\"goodbye\"] = \"dowidzenia\"\n",
    "słownik[\"table\"] = \"stolik\"\n",
    "słownik[\"ambush\"] = \"zasadzka\""
   ]
  },
  {
   "cell_type": "code",
   "execution_count": 139,
   "metadata": {},
   "outputs": [
    {
     "data": {
      "text/plain": [
       "dict_keys(['hello', 'wrath', 'corridor', 'boring', 'interesting', 'goodbye', 'table', 'ambush'])"
      ]
     },
     "execution_count": 139,
     "metadata": {},
     "output_type": "execute_result"
    }
   ],
   "source": [
    "słownik.keys()"
   ]
  },
  {
   "cell_type": "markdown",
   "metadata": {},
   "source": [
    "W tym zadaniu stworzyliśmy słownik, wypisalismy jego elementy i dodaliśmy kolejne."
   ]
  },
  {
   "cell_type": "markdown",
   "metadata": {},
   "source": [
    "## Zadanie 5"
   ]
  },
  {
   "cell_type": "code",
   "execution_count": 150,
   "metadata": {},
   "outputs": [],
   "source": [
    "Narząd = {\"Mózg\":{\"P\":140,\"Ca\":60,\"Fe\":240,\"Cu\":10},\"Nerka\":{\"P\":440,\"Ca\":55,\"Fe\":180,\"Cu\":12},\"Śledziona\":{\"P\":560,\"Ca\":25.5,\"Fe\":160,\"Cu\":18},\"Wątroba\":{\"P\":660,\"Ca\":60.3,\"Fe\":320,\"Cu\":20},\"Osocze\":{\"P\":423,\"Ca\":50.2,\"Fe\":90,\"Cu\":5},\"Serce\":{\"P\":440.4,\"Ca\":90,\"Fe\":180,\"Cu\":12}}"
   ]
  },
  {
   "cell_type": "code",
   "execution_count": 151,
   "metadata": {},
   "outputs": [
    {
     "name": "stdout",
     "output_type": "stream",
     "text": [
      "Stężenie fosforu w mózgu to 140 mg/kg\n"
     ]
    }
   ],
   "source": [
    "print(\"Stężenie fosforu w mózgu to\",Narząd[\"Mózg\"][\"P\"],\"mg/kg\")"
   ]
  },
  {
   "cell_type": "markdown",
   "metadata": {},
   "source": [
    "## Zadanie 6"
   ]
  },
  {
   "cell_type": "code",
   "execution_count": null,
   "metadata": {},
   "outputs": [],
   "source": [
    "Species \tLived when (mill. yrs) \tAdult height (m) \tAdult mass (kg) \tBrain volume (cm3\n",
    ")\n",
    "H. habilis \t2.2 - 1.6 \t1.0 - 1.5 \t33 - 55 \t660\n",
    "H. erectus \t1.4 - 0.2 \t1.8 \t60 \t850 (early) - 1100 (late)\n",
    "H. ergaster \t1.9 - 1.4 \t1.9 \t\t700 - 850\n",
    "H. heidelbergensis \t0.6 - 0.35 \t1.8 \t60 \t1100 - 1400\n",
    "H. neanderthalensis \t0.35 - 0.03 \t1.6 \t55 - 70 \t1200 - 1700\n",
    "H. sapiens sapiens \t0.2 - present \t1.4 - 1.9 \t50 - 100 \t1000 - 1850\n",
    "H. floresiensis \t0.10 - 0.012 \t1.0 \t25 \t400"
   ]
  },
  {
   "cell_type": "code",
   "execution_count": 56,
   "metadata": {},
   "outputs": [
    {
     "data": {
      "text/plain": [
       "'1-1.5'"
      ]
     },
     "execution_count": 56,
     "metadata": {},
     "output_type": "execute_result"
    }
   ],
   "source": [
    "Species = [\"H. habilis\",\"H. erectus\",\"H. ergaster\",\"H. heidelbergensis\",\"H. neanderthalensis\",\"H. sapiens sapiens\",\"H. floresiensis \"]\n",
    "Lived_when = [\"2.2-1.6\",\"1.4-0.2\",\"1.9-1.4\",\"0.6-0.35\",\"0.35-0.03\",\"0.2\",\"0.10-0.012\"]\n",
    "Adult_height = [\"1-1.5\",\"1.8\",\"1.9\",\"1.8\",\"1.6\",\"1.4-1.9\",\"1\"]\n",
    "Adult_mass = [\"33-55\",\"60\",\"none\",\"60\",\"55-70\",\"50-100\",\"25\"]\n",
    "Brain_volume = [\"660\",\"1100\",\"700-850\",\"1100-1400\",\"1200-1700\",\"1000-1850\",\"400\"]\n",
    "    \n",
    "Gatunki = {\"H. habilis\":{\"Lived_when\":\"2.2-1.6\",\"Adult_height\":\"1-1.5\",\"Adult_mass\":\"33-55\",\"Brain_volume\":660}}\n",
    "Gatunki[\"H. habilis\"][\"Adult_height\"]"
   ]
  },
  {
   "cell_type": "markdown",
   "metadata": {},
   "source": [
    "Powyżej i w **5 zadaniu** trzeba było przetestowac możliwości słownika. Jednak czekam na bardziej optymalna forme zczytywania danych aby te czynności były mniej czasochłonne"
   ]
  },
  {
   "cell_type": "markdown",
   "metadata": {},
   "source": [
    "## Zadanie 7"
   ]
  },
  {
   "cell_type": "markdown",
   "metadata": {},
   "source": [
    "### A"
   ]
  },
  {
   "cell_type": "code",
   "execution_count": 3,
   "metadata": {},
   "outputs": [],
   "source": [
    "DNA = {\"A\":\"T\",\"G\":\"C\",\"T\":\"A\",\"C\":\"G\"}"
   ]
  },
  {
   "cell_type": "markdown",
   "metadata": {},
   "source": [
    "### B"
   ]
  },
  {
   "cell_type": "code",
   "execution_count": 4,
   "metadata": {},
   "outputs": [
    {
     "data": {
      "text/plain": [
       "'TAACGTAATCAGTCCTAAGCCTAGTAACGTAATCAGTCCTAAGCCTAG'"
      ]
     },
     "execution_count": 4,
     "metadata": {},
     "output_type": "execute_result"
    }
   ],
   "source": [
    "sekw = \"ATTGCATTAGTCAGGATTCGGATCATTGCATTAGTCAGGATTCGGATC\"\n",
    "n_sekw = \"\"\n",
    "for i in sekw:\n",
    "        n_sekw+= DNA[i]\n",
    "n_sekw"
   ]
  },
  {
   "cell_type": "markdown",
   "metadata": {},
   "source": [
    "## C"
   ]
  },
  {
   "cell_type": "markdown",
   "metadata": {},
   "source": [
    "Naszym zadaniem było napisać program, który w automatyczny sposób znajdzie fragmenty komplementarne."
   ]
  },
  {
   "cell_type": "code",
   "execution_count": 6,
   "metadata": {},
   "outputs": [
    {
     "name": "stdout",
     "output_type": "stream",
     "text": [
      "['TAACGT', 'CGGTAT', 'TCCGAT', 'CCAATG']\n"
     ]
    }
   ],
   "source": [
    "sekw_dane = [\"ATTGCA\", \"GCCATA\", \"AGGCTA\", \"GGTTAC\"]\n",
    "nowe_dane = []\n",
    "for i in range(len(sekw_dane)):\n",
    "    x = \"\"\n",
    "    for j in sekw_dane[i]:\n",
    "        x += DNA[j]\n",
    "    nowe_dane.append(x)    \n",
    "    \n",
    "print(nowe_dane)"
   ]
  },
  {
   "cell_type": "markdown",
   "metadata": {},
   "source": [
    "A tu poniżej rozwiązanie problemu używjąc wyrażenia listotwórczego"
   ]
  },
  {
   "cell_type": "code",
   "execution_count": 7,
   "metadata": {},
   "outputs": [
    {
     "data": {
      "text/plain": [
       "['TAACGTC', 'TCGGTATC', 'CCATGAT', 'CCATCAT']"
      ]
     },
     "execution_count": 7,
     "metadata": {},
     "output_type": "execute_result"
    }
   ],
   "source": [
    "parowanie = {\"A\":\"T\", \"G\":\"C\", \"T\":\"A\", \"C\":\"G\"} \n",
    "primery = [\"ATTGCAG\", \"AGCCATAG\", \"GGTACTA\", \"GGTAGTA\"] \n",
    "kompl = [\"\".join([parowanie[litera] for litera in primer]) for primer in primery]\n",
    "kompl"
   ]
  },
  {
   "cell_type": "markdown",
   "metadata": {},
   "source": [
    "## D"
   ]
  },
  {
   "cell_type": "code",
   "execution_count": 350,
   "metadata": {},
   "outputs": [
    {
     "data": {
      "text/plain": [
       "True"
      ]
     },
     "execution_count": 350,
     "metadata": {},
     "output_type": "execute_result"
    }
   ],
   "source": [
    "sekw = \"ATTGCATTAGTCAGGATTCGGATCATTGCATTAGTCAGGATTCGGATC\"\n",
    "pl = \"GGAT\"\n",
    "pl in sekw"
   ]
  },
  {
   "cell_type": "code",
   "execution_count": 351,
   "metadata": {},
   "outputs": [
    {
     "data": {
      "text/plain": [
       "13"
      ]
     },
     "execution_count": 351,
     "metadata": {},
     "output_type": "execute_result"
    }
   ],
   "source": [
    "sekw.find(pl)"
   ]
  },
  {
   "cell_type": "markdown",
   "metadata": {},
   "source": [
    "Powyżej przedstawiłem dwa sposoby na określenie czy dany element wystepuje w sekwencji. Użyłem operatora `in` oraz metody `find()` która informuje nas w której części sekwecji pierwszy raz sie pojawił element."
   ]
  },
  {
   "cell_type": "markdown",
   "metadata": {},
   "source": [
    "# Zadanie 8"
   ]
  },
  {
   "cell_type": "code",
   "execution_count": 4,
   "metadata": {},
   "outputs": [],
   "source": [
    "t1 = {}\n",
    "t1[0] = -5\n",
    "t1[1] = 10.5"
   ]
  },
  {
   "cell_type": "code",
   "execution_count": 5,
   "metadata": {},
   "outputs": [
    {
     "ename": "IndexError",
     "evalue": "list assignment index out of range",
     "output_type": "error",
     "traceback": [
      "\u001b[0;31m---------------------------------------------------------------------------\u001b[0m",
      "\u001b[0;31mIndexError\u001b[0m                                Traceback (most recent call last)",
      "\u001b[0;32m<ipython-input-5-ad1e46674a20>\u001b[0m in \u001b[0;36m<module>\u001b[0;34m\u001b[0m\n\u001b[1;32m      1\u001b[0m \u001b[0mt2\u001b[0m \u001b[0;34m=\u001b[0m \u001b[0;34m[\u001b[0m\u001b[0;34m]\u001b[0m\u001b[0;34m\u001b[0m\u001b[0;34m\u001b[0m\u001b[0m\n\u001b[0;32m----> 2\u001b[0;31m \u001b[0mt2\u001b[0m\u001b[0;34m[\u001b[0m\u001b[0;36m0\u001b[0m\u001b[0;34m]\u001b[0m \u001b[0;34m=\u001b[0m \u001b[0;34m-\u001b[0m\u001b[0;36m6\u001b[0m\u001b[0;34m\u001b[0m\u001b[0;34m\u001b[0m\u001b[0m\n\u001b[0m\u001b[1;32m      3\u001b[0m \u001b[0mt2\u001b[0m\u001b[0;34m[\u001b[0m\u001b[0;36m1\u001b[0m\u001b[0;34m]\u001b[0m \u001b[0;34m=\u001b[0m \u001b[0;36m11.5\u001b[0m\u001b[0;34m\u001b[0m\u001b[0;34m\u001b[0m\u001b[0m\n",
      "\u001b[0;31mIndexError\u001b[0m: list assignment index out of range"
     ]
    }
   ],
   "source": [
    "t2 = []\n",
    "t2[0] = -6\n",
    "t2[1] = 11.5"
   ]
  },
  {
   "cell_type": "markdown",
   "metadata": {},
   "source": [
    "Brak zalokowanej pamieci przez co nie można odwaołać się do kolenych elementów listy.  \n",
    "Ale można by było dodac kolejny element w ten sposób:"
   ]
  },
  {
   "cell_type": "code",
   "execution_count": 48,
   "metadata": {},
   "outputs": [
    {
     "name": "stdout",
     "output_type": "stream",
     "text": [
      "[-6, 11.5]\n"
     ]
    }
   ],
   "source": [
    "t2 = []\n",
    "t2.append(-6)\n",
    "t2.append(11.5)\n",
    "print(t2)"
   ]
  },
  {
   "cell_type": "markdown",
   "metadata": {},
   "source": [
    "# Zadanie 9 "
   ]
  },
  {
   "cell_type": "code",
   "execution_count": 1,
   "metadata": {},
   "outputs": [
    {
     "name": "stdout",
     "output_type": "stream",
     "text": [
      "Wynik to x1 = 1.46 i x2 = -5.46\n"
     ]
    }
   ],
   "source": [
    "# 2x^2 + 2x -1\n",
    "import math as m\n",
    "W = [2,2,-1]\n",
    "delta = W[1]**2 - 4*W[0]*W[2]\n",
    "if delta >0 :\n",
    "    x1 = (-W[1] + m.sqrt(delta))/2*W[0]\n",
    "    x2 = (-W[1] - m.sqrt(delta))/2*W[0]\n",
    "    print(\"Wynik to x1 = {0:.2f} i x2 = {1:.2f}\".format(x1,x2)) \n",
    "elif delta == 0:\n",
    "    x_0 = -W[1]/2*W[0]\n",
    "    print(\"Wynik to x_0 = {0:.2f} \".format(x_0))\n",
    "else :\n",
    "    print(\"Nie można policzyć pierwiastków no chyba że znasz liczby zespolone\")"
   ]
  },
  {
   "cell_type": "markdown",
   "metadata": {},
   "source": [
    "Dla tego zadania przetestowałem możliwości instrukcji warunkowej gdzie kod liczy pierwiastki wielomianu.  \n",
    "Oczywiście można byłoby rozszerzyć mozliwości tego kodu o liczenie pierwiastków zespolonych ale ograniczyłem sie do wiedzy z liceum."
   ]
  },
  {
   "cell_type": "markdown",
   "metadata": {},
   "source": [
    "# Wnioski"
   ]
  },
  {
   "cell_type": "markdown",
   "metadata": {},
   "source": [
    "To co można było wynieść z tych zjęć to to jak bardzo sprawnie można uprościć kod przez uzywanie wyrażeń listotwórczych i słownikotwórczych co może sie okazać kluczowe w rozwiazywaniu przysżłych problemów.  \n",
    "Miłe było przypomnienie wiedzy z biologi tematyki DNA i zachęciło do kolejnego zgłebienia wiedzy w tym temacie."
   ]
  },
  {
   "attachments": {
    "snake-hands-1-5b7fef345f80c__700.jpg": {
     "image/jpeg": "[encoded data removed]"
    }
   },
   "cell_type": "markdown",
   "metadata": {},
   "source": [
    "![snake-hands-1-5b7fef345f80c__700.jpg](attachment:snake-hands-1-5b7fef345f80c__700.jpg)"
   ]
  }
 ],
 "metadata": {
  "kernelspec": {
   "display_name": "Python 3",
   "language": "python",
   "name": "python3"
  },
  "language_info": {
   "codemirror_mode": {
    "name": "ipython",
    "version": 3
   },
   "file_extension": ".py",
   "mimetype": "text/x-python",
   "name": "python",
   "nbconvert_exporter": "python",
   "pygments_lexer": "ipython3",
   "version": "3.8.5"
  }
 },
 "nbformat": 4,
 "nbformat_minor": 4
}
